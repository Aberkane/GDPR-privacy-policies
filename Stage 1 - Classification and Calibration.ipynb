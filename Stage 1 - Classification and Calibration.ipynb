{
 "cells": [
  {
   "cell_type": "markdown",
   "metadata": {},
   "source": [
    "# Towards Automated GDPR-compliance in Organizations: A Natural Language Processing Based Machine Learning Approach\n",
    "\n",
    "# 1. Classification and Calibration\n",
    "\n",
    "This script includes a supervised machine learning-based NLP pipeline to build five classifiers that can assess whether privacy policies disclose the five GDPR privacy policy core requirements. It was hypothesized that integrating NLP in our approach was essential since privacy policies are expressed in natural language. The dataset for training the models was acquired from [1] containing 250 anonymized privacy policies comprising over 18,300 natural sentences labeled according to the five GDPR privacy policy core requirements in the Table 1. Our approach resulted in five different classification models—trained using Python's Scikit-Learn library—each focusing on one of the GDPR privacy policy core requirements.\n",
    "\n",
    "\n",
    "|No.|\tRequirement|Required content in privacy policy|\n",
    "|:---:|:---|:---|\n",
    "|1| DPO | Contact details for the data protection officer or equivalent |\n",
    "|2| Purpose | Disclosure of the purpose for which personal data is or is not used for |\n",
    "|3| Acquired data | Disclosure that personal data is or is not collected, and/or which data is collected |\n",
    "|4| Data sharing | Disclosure if 3rd parties can or cannot access a user’s personal data |\n",
    "|5| Rights | Disclosure of the user’s right to rectify or erase personal data |\n",
    "\n",
    "<center>Table 1: Five GDPR Privacy Policy Core Requirements</center>\n",
    "\n",
    "#### Data set\n",
    "This manually labeled data set [1] comprises 250 individual policies, containing over 18,300 natural sentences. The data is labeled according to the GDPR privacy policy key requirements as presented in Table 1. The data can be accessed via this link: https://git.aisec.fraunhofer.de/projects/GDPRCOM/repos/on-gdpr-compliance/browse.\n",
    "\n",
    "---\n",
    "#### References\n",
    "[1] Müller, Nicolas M., et al. \"On GDPR compliance of companies’ privacy policies.\" International Conference on Text, Speech, and Dialogue. Springer, Cham, 2019."
   ]
  },
  {
   "cell_type": "markdown",
   "metadata": {},
   "source": [
    "#### Libraries"
   ]
  },
  {
   "cell_type": "code",
   "execution_count": 1,
   "metadata": {},
   "outputs": [],
   "source": [
    "from platform import python_version\n",
    "import pandas\n",
    "import matplotlib.pyplot as plt\n",
    "import seaborn as sns\n",
    "from collections import Counter\n",
    "from sklearn.datasets import make_classification\n",
    "from imblearn.over_sampling import RandomOverSampler\n",
    "from nltk.stem import PorterStemmer\n",
    "# from nltk.stem import WordNetLemmatizer\n",
    "from nltk.corpus import stopwords\n",
    "import re\n",
    "from sklearn.model_selection import train_test_split\n",
    "from sklearn.model_selection import GridSearchCV\n",
    "from pprint import pprint\n",
    "from imblearn.over_sampling import RandomOverSampler\n",
    "from time import time\n",
    "from sklearn.model_selection import StratifiedShuffleSplit\n",
    "from sklearn.model_selection import StratifiedKFold\n",
    "from sklearn.model_selection import cross_val_score\n",
    "from sklearn.pipeline import Pipeline, make_pipeline\n",
    "from imblearn.pipeline import Pipeline, make_pipeline\n",
    "from sklearn.linear_model import LogisticRegression\n",
    "from sklearn.feature_extraction.text import TfidfVectorizer\n",
    "import numpy as np\n",
    "from sklearn.model_selection import train_test_split\n",
    "from sklearn.metrics import roc_auc_score, precision_score, f1_score, accuracy_score, recall_score, average_precision_score, classification_report, confusion_matrix, f1_score, roc_auc_score, roc_curve, precision_recall_curve\n",
    "import pickle\n",
    "from shapely.geometry import LineString\n",
    "import array as arr\n",
    "import matplotlib.pyplot as plt  \n",
    "from scipy.stats import binom\n",
    "from sklearn import metrics\n",
    "\n",
    "from sklearn.pipeline import Pipeline\n",
    "from sklearn.model_selection import train_test_split\n",
    "from sklearn.model_selection import GridSearchCV\n",
    "from sklearn.feature_extraction.text import CountVectorizer\n",
    "from sklearn.feature_extraction.text import TfidfTransformer\n",
    "from sklearn.linear_model import LogisticRegression\n",
    "from sklearn.ensemble import RandomForestClassifier\n",
    "from sklearn.multioutput import MultiOutputClassifier\n",
    "from sklearn.multioutput import ClassifierChain\n",
    "from sklearn.metrics import make_scorer\n",
    "from sklearn.metrics import roc_auc_score\n",
    "from sklearn.metrics import f1_score\n",
    "from sklearn.metrics import recall_score\n",
    "from sklearn.metrics import precision_score\n",
    "from sklearn.metrics import accuracy_score\n",
    "from sklearn.metrics import RocCurveDisplay\n",
    "from imblearn.pipeline import Pipeline as ILPipeline\n",
    "from imblearn.over_sampling import RandomOverSampler\n",
    "from imblearn.under_sampling import RandomUnderSampler"
   ]
  },
  {
   "cell_type": "code",
   "execution_count": 2,
   "metadata": {},
   "outputs": [
    {
     "name": "stdout",
     "output_type": "stream",
     "text": [
      "3.8.5\n"
     ]
    }
   ],
   "source": [
    "print(python_version())"
   ]
  },
  {
   "cell_type": "markdown",
   "metadata": {},
   "source": [
    "---"
   ]
  },
  {
   "cell_type": "markdown",
   "metadata": {},
   "source": [
    "## Import data: 18.397 labeled sentence snippets"
   ]
  },
  {
   "cell_type": "code",
   "execution_count": 3,
   "metadata": {},
   "outputs": [],
   "source": [
    "DATA_FILE = \"data/GDPR.csv\""
   ]
  },
  {
   "cell_type": "code",
   "execution_count": 5,
   "metadata": {},
   "outputs": [
    {
     "name": "stdout",
     "output_type": "stream",
     "text": [
      "(18397, 6)\n"
     ]
    }
   ],
   "source": [
    "dataset = pandas.read_csv(DATA_FILE, sep='\\t', encoding='utf-8')\n",
    "print(dataset.shape)"
   ]
  },
  {
   "cell_type": "markdown",
   "metadata": {},
   "source": [
    "### Explore balance of dataset"
   ]
  },
  {
   "cell_type": "code",
   "execution_count": 7,
   "metadata": {},
   "outputs": [
    {
     "data": {
      "text/plain": [
       "Text(0.5, 0, 'GDPR Assessment Criteria')"
      ]
     },
     "execution_count": 7,
     "metadata": {},
     "output_type": "execute_result"
    },
    {
     "data": {
      "image/png": "[encoded data removed]",
      "text/plain": [
       "<Figure size 576x360 with 1 Axes>"
      ]
     },
     "metadata": {
      "needs_background": "light"
     },
     "output_type": "display_data"
    }
   ],
   "source": [
    "categories = list(dataset.columns)[1:] # select all except 'text' column\n",
    "\n",
    "counts = []\n",
    "for column in categories:\n",
    "    counts.append((column, dataset[column].value_counts()[1]))\n",
    "\n",
    "df_stats = pandas.DataFrame(counts, columns=['GDPR_criteria', 'number_of_pos_sen'])\n",
    "\n",
    "df_stats.plot(x='GDPR_criteria', y='number_of_pos_sen', kind='bar', legend=False, grid=True, figsize=(8, 5))\n",
    "plt.title(\"Number of positively labeled sentences per category\")\n",
    "plt.ylabel('Number of occurrences (of a total of 18.397)', fontsize=12)\n",
    "plt.xlabel('GDPR Assessment Criteria', fontsize=12)"
   ]
  },
  {
   "cell_type": "markdown",
   "metadata": {},
   "source": [
    "### Explore number of multi-labeled sentences\n",
    "Source: https://towardsdatascience.com/multi-label-text-classification-with-scikit-learn-30714b7819c5"
   ]
  },
  {
   "cell_type": "code",
   "execution_count": 8,
   "metadata": {},
   "outputs": [
    {
     "name": "stderr",
     "output_type": "stream",
     "text": [
      "C:\\Users\\aaberkan\\Anaconda3\\lib\\site-packages\\seaborn\\_decorators.py:36: FutureWarning: Pass the following variables as keyword args: x, y. From version 0.12, the only valid positional argument will be `data`, and passing other arguments without an explicit keyword will result in an error or misinterpretation.\n",
      "  warnings.warn(\n"
     ]
    },
    {
     "data": {
      "text/plain": [
       "Text(0.5, 0, 'Number GDPR criteria per sentence')"
      ]
     },
     "execution_count": 8,
     "metadata": {},
     "output_type": "execute_result"
    },
    {
     "data": {
      "image/png": "[encoded data removed]",
      "text/plain": [
       "<Figure size 576x360 with 1 Axes>"
      ]
     },
     "metadata": {
      "needs_background": "light"
     },
     "output_type": "display_data"
    }
   ],
   "source": [
    "rowsums = dataset.iloc[:,2:].sum(axis=1)\n",
    "x = rowsums.value_counts()\n",
    "#plot\n",
    "plt.figure(figsize=(8,5))\n",
    "ax = sns.barplot(x.index, x.values)\n",
    "plt.title(\"Multiple GDPR criteria per sentence\")\n",
    "plt.ylabel('Number of occurrences (of a total of 18.397)', fontsize=12)\n",
    "plt.xlabel('Number GDPR criteria per sentence', fontsize=12)"
   ]
  },
  {
   "cell_type": "markdown",
   "metadata": {},
   "source": [
    "###### Note: the vast majority of the sentences is not labeled at all (almost 16.000)\n",
    "The problem of class imbalance shall be addressed below."
   ]
  },
  {
   "cell_type": "markdown",
   "metadata": {},
   "source": [
    "---"
   ]
  },
  {
   "cell_type": "markdown",
   "metadata": {},
   "source": [
    "## Preprocessing"
   ]
  },
  {
   "cell_type": "markdown",
   "metadata": {},
   "source": [
    "The preprocessing consists of the following steps: \n",
    "- addressing the class imbalance by oversampling the minority class in the training set;\n",
    "- removing punctuation;\n",
    "- removing words containing digits (authors of data set used these words to scramble the data, e.g., company_32782);\n",
    "- removing stopwords;\n",
    "- stemming;\n",
    "\n",
    "Lastly, we also conduct a stratified split on the data set to address the class imbalance, and introduce a method to oversample the minority class in the training set later on. "
   ]
  },
  {
   "cell_type": "code",
   "execution_count": 9,
   "metadata": {},
   "outputs": [],
   "source": [
    "# This method executes the previously mentioned preprocessing tasks.\n",
    "# It takes a list of sentences as an argument and returns a list of preprocessed sentences.\n",
    "def preprocessing(pps):\n",
    "#     tokenizer = nlp.tokenizer\n",
    "    # tokenize sentences\n",
    "    tokenized_sent = [sent.split() for sent in pps]\n",
    "    \n",
    "    # remove punctuation\n",
    "    tokenized_sent = [[re.sub('[,’\\'\\.!?&“”():*_;\"]', '', y) for y in x] for x in tokenized_sent]\n",
    "    \n",
    "    # remove words with digits\n",
    "    tokenized_sent = [[y for y in x if not any(c.isdigit() for c in y)] for x in tokenized_sent]\n",
    "    \n",
    "    # remove stopwords   \n",
    "    tokenized_sent_clean = tokenized_sent\n",
    "#     tokenized_sent_clean = [[y for y in x if y not in stopwords.words('english')] for x in tokenized_sent]\n",
    "    \n",
    "    # from nltk.stem import PorterStemmer\n",
    "    porter = PorterStemmer()\n",
    "    tokenized_sent_clean = [[porter.stem(y) for y in x] for x in tokenized_sent_clean]\n",
    "    \n",
    "#     lemmatizer = WordNetLemmatizer()\n",
    "#     tokenized_sent_clean = [[lemmatizer.lemmatize(y) for y in x] for x in tokenized_sent_clean]\n",
    "\n",
    "    detokenized_pps = []\n",
    "    for i in range(len(tokenized_sent_clean)):\n",
    "        t = ' '.join(tokenized_sent_clean[i])\n",
    "        detokenized_pps.append(t) \n",
    "    \n",
    "    return detokenized_pps"
   ]
  },
  {
   "cell_type": "markdown",
   "metadata": {},
   "source": [
    "### Gridsearch"
   ]
  },
  {
   "cell_type": "code",
   "execution_count": 10,
   "metadata": {},
   "outputs": [],
   "source": [
    "def make_and_train_pipeline(\n",
    "    X, y,\n",
    "    transformer = True,\n",
    "    sampler = True,\n",
    "    classifier = True,\n",
    "):\n",
    "\n",
    "    if transformer is True: transformer = TfidfTransformer\n",
    "    if sampler is True: sampler = RandomOverSampler\n",
    "    if classifier is True: classifier = LogisticRegression\n",
    "    \n",
    "#     steps = [(\"vec\", CountVectorizer())]\n",
    "    steps = [(\"tfidf\", TfidfVectorizer())]\n",
    "#     steps = []\n",
    "#     if transformer: steps += [(\"tra\", transformer())]\n",
    "    if sampler: steps += [(\"sam\", sampler(random_state = 42))]\n",
    "    if classifier is ClassifierChain:\n",
    "        steps += [(\"cla\", classifier(LogisticRegression()))]\n",
    "    elif classifier: steps += [(\"cla\", classifier())]\n",
    "    \n",
    "    pipeline = ILPipeline(steps)\n",
    "\n",
    "    parameters = {\n",
    "#         \"vec__stop_words\": (\"english\",),\n",
    "#         \"vec__max_df\": (0.1, 0.4, 0.5, 0.6, 1.0),\n",
    "#         'vec__max_features': (500, 1000, 2000, 5000),\n",
    "#         \"vec__ngram_range\": ((1, 1), (1, 2), (1, 3)),\n",
    "#         \"tfidf__max_df\": (0.1, 0.4, 0.5, 0.6, 1.0),\n",
    "        \"tfidf__max_features\": (500, 1000, 2000, 5000),\n",
    "        \"tfidf__ngram_range\": ((1, 1), (1, 2), (1, 3)),\n",
    "#         \"tra__use_idf\": (True,),\n",
    "#         \"tra__norm\": (\"l2\",)\n",
    "    }\n",
    "    if classifier is LogisticRegression:\n",
    "        parameters.update({\n",
    "            \"cla__C\": (0.1, 0.01, 0.001, 0.0001),\n",
    "#             \"cla__penalty\": (\"l2\",),\n",
    "#             \"cla__solver\": (\"lbfgs\",),\n",
    "            'cla__max_iter': (200,)\n",
    "        })\n",
    "    if classifier is RandomForestClassifier:\n",
    "        parameters.update({\n",
    "            \"cla__max_features\": (\"sqrt\",),\n",
    "            \"cla__n_estimators\": (500,),\n",
    "        })\n",
    "\n",
    "    grid_search = GridSearchCV(pipeline, param_grid=parameters, n_jobs=-1, verbose=4, scoring=\"roc_auc\")\n",
    "    grid_search.fit(X, y)\n",
    "\n",
    "    print(\"Best score: %0.3f\" % grid_search.best_score_)\n",
    "    print(\"Best parameters set:\")\n",
    "    best_parameters = grid_search.best_estimator_.get_params()\n",
    "    for param_name in sorted(parameters.keys()):\n",
    "        print(\"\\t%s: %r\" % (param_name, best_parameters[param_name]))\n",
    "        \n",
    "    return grid_search"
   ]
  },
  {
   "cell_type": "code",
   "execution_count": 11,
   "metadata": {},
   "outputs": [],
   "source": [
    "def plot_results(y, preds):\n",
    "    print(f\" \\\n",
    "        {roc_auc_score(y, preds >= .5) = }\\n \\\n",
    "        {accuracy_score(y, preds >= .5) = }\\n \\\n",
    "        {recall_score(y, preds >= .5) = }\\n \\\n",
    "        {precision_score(y, preds >= .5) = }\"\n",
    "    )\n",
    "    fig, (ax1, ax2) = plt.subplots(2)\n",
    "    ax1.plot(np.arange(0, .8, 0.01), [roc_auc_score(y, preds >= t) for t in np.arange(0, .8, 0.01)])\n",
    "    ax1.plot(np.arange(0, .8, 0.01), [recall_score(y, preds >= t) for t in np.arange(0, .8, 0.01)])\n",
    "    ax1.plot(np.arange(0, .8, 0.01), [precision_score(y, preds >= t) for t in np.arange(0, .8, 0.01)])\n",
    "    ax1.plot(np.arange(0, .8, 0.01), [accuracy_score(y, preds >= t) for t in np.arange(0, .8, 0.01)])\n",
    "    ax1.legend(labels=[\"ROC\", \"recall\", \"precision\", \"accuracy\"])\n",
    "    RocCurveDisplay.from_predictions(y, preds, ax=ax2)\n",
    "    plt.show()"
   ]
  },
  {
   "cell_type": "code",
   "execution_count": 14,
   "metadata": {
    "scrolled": true
   },
   "outputs": [
    {
     "name": "stdout",
     "output_type": "stream",
     "text": [
      "DPO\n",
      "Fitting 5 folds for each of 48 candidates, totalling 240 fits\n",
      "Best score: 0.983\n",
      "Best parameters set:\n",
      "\tcla__C: 0.1\n",
      "\tcla__max_iter: 200\n",
      "\ttfidf__max_features: 5000\n",
      "\ttfidf__ngram_range: (1, 2)\n",
      "Same category with preprocessing: \n",
      "Fitting 5 folds for each of 48 candidates, totalling 240 fits\n",
      "Best score: 0.981\n",
      "Best parameters set:\n",
      "\tcla__C: 0.1\n",
      "\tcla__max_iter: 200\n",
      "\ttfidf__max_features: 5000\n",
      "\ttfidf__ngram_range: (1, 2)\n",
      "\n",
      "--- --- --- --- --- --- --- --- --- ---\n",
      "Purpose\n",
      "Fitting 5 folds for each of 48 candidates, totalling 240 fits\n",
      "Best score: 0.932\n",
      "Best parameters set:\n",
      "\tcla__C: 0.1\n",
      "\tcla__max_iter: 200\n",
      "\ttfidf__max_features: 5000\n",
      "\ttfidf__ngram_range: (1, 2)\n",
      "Same category with preprocessing: \n",
      "Fitting 5 folds for each of 48 candidates, totalling 240 fits\n",
      "Best score: 0.932\n",
      "Best parameters set:\n",
      "\tcla__C: 0.1\n",
      "\tcla__max_iter: 200\n",
      "\ttfidf__max_features: 5000\n",
      "\ttfidf__ngram_range: (1, 2)\n",
      "\n",
      "--- --- --- --- --- --- --- --- --- ---\n",
      "Acquired data\n",
      "Fitting 5 folds for each of 48 candidates, totalling 240 fits\n",
      "Best score: 0.949\n",
      "Best parameters set:\n",
      "\tcla__C: 0.1\n",
      "\tcla__max_iter: 200\n",
      "\ttfidf__max_features: 5000\n",
      "\ttfidf__ngram_range: (1, 3)\n",
      "Same category with preprocessing: \n",
      "Fitting 5 folds for each of 48 candidates, totalling 240 fits\n",
      "Best score: 0.953\n",
      "Best parameters set:\n",
      "\tcla__C: 0.1\n",
      "\tcla__max_iter: 200\n",
      "\ttfidf__max_features: 5000\n",
      "\ttfidf__ngram_range: (1, 3)\n",
      "\n",
      "--- --- --- --- --- --- --- --- --- ---\n",
      "Data sharing\n",
      "Fitting 5 folds for each of 48 candidates, totalling 240 fits\n",
      "Best score: 0.976\n",
      "Best parameters set:\n",
      "\tcla__C: 0.1\n",
      "\tcla__max_iter: 200\n",
      "\ttfidf__max_features: 5000\n",
      "\ttfidf__ngram_range: (1, 2)\n",
      "Same category with preprocessing: \n",
      "Fitting 5 folds for each of 48 candidates, totalling 240 fits\n",
      "Best score: 0.978\n",
      "Best parameters set:\n",
      "\tcla__C: 0.1\n",
      "\tcla__max_iter: 200\n",
      "\ttfidf__max_features: 5000\n",
      "\ttfidf__ngram_range: (1, 2)\n",
      "\n",
      "--- --- --- --- --- --- --- --- --- ---\n",
      "Rights\n",
      "Fitting 5 folds for each of 48 candidates, totalling 240 fits\n",
      "Best score: 0.994\n",
      "Best parameters set:\n",
      "\tcla__C: 0.1\n",
      "\tcla__max_iter: 200\n",
      "\ttfidf__max_features: 2000\n",
      "\ttfidf__ngram_range: (1, 1)\n",
      "Same category with preprocessing: \n",
      "Fitting 5 folds for each of 48 candidates, totalling 240 fits\n",
      "Best score: 0.996\n",
      "Best parameters set:\n",
      "\tcla__C: 0.1\n",
      "\tcla__max_iter: 200\n",
      "\ttfidf__max_features: 2000\n",
      "\ttfidf__ngram_range: (1, 1)\n",
      "\n",
      "--- --- --- --- --- --- --- --- --- ---\n"
     ]
    }
   ],
   "source": [
    "for i, category in enumerate(categories):\n",
    "    print(category)\n",
    "    train, test = train_test_split(dataset, stratify=dataset[category], test_size=0.2, random_state=42)\n",
    "    y_train, y_test = train[category], test[category]\n",
    "    lr_model = make_and_train_pipeline(train.Text, y_train)\n",
    "#     plot_results(y_test, lr_model.predict_proba(test.Text)[:, 1])\n",
    "    \n",
    "    print(\"Same category with preprocessing: \")\n",
    "    prep_train_text, prep_test_text = preprocessing(train.Text), preprocessing(test.Text)\n",
    "    lr_model = make_and_train_pipeline(prep_train_text, y_train)\n",
    "#     plot_results(y_test, lr_model.predict_proba(prep_test_text)[:, 1])\n",
    "    print()\n",
    "    print(\"--- --- --- --- --- --- --- --- --- ---\")"
   ]
  },
  {
   "cell_type": "markdown",
   "metadata": {},
   "source": [
    "# Predict & Evaluate"
   ]
  },
  {
   "cell_type": "markdown",
   "metadata": {},
   "source": [
    "We use the optimized parameters to build classification models. These confusion matrix of the test set (using these classification models) is then computed based on the ideal threshold/cutoff value, that corresponds with the highest F1-score."
   ]
  },
  {
   "cell_type": "code",
   "execution_count": 15,
   "metadata": {},
   "outputs": [],
   "source": [
    "def cutoff_results_f1(y_test, y_prob):\n",
    "    # Let's create columns with different probability cutoffs \n",
    "    thresholds = [float(x)/50 for x in range(50)]\n",
    "    f1_list = []\n",
    "    \n",
    "    for i in thresholds:\n",
    "        y_pred_o = np.where(y_prob > i, 1, 0)\n",
    "        f1_list.append(f1_score(y_test, y_pred_o))\n",
    "\n",
    "    max_f1 = max(f1_list)\n",
    "    print(f\"Max F1-score: {max_f1}\")\n",
    "    max_index = f1_list.index(max_f1)\n",
    "    y_pred_max = np.where(y_prob > thresholds[max_index], 1, 0)\n",
    "\n",
    "    return f1_list, thresholds, y_pred_max"
   ]
  },
  {
   "cell_type": "code",
   "execution_count": 16,
   "metadata": {},
   "outputs": [],
   "source": [
    "def plot_f1_threshold(y_test, y_prob):\n",
    "    f1_list, thresholds, y_pred_max = cutoff_results_f1(y_test, y_prob)\n",
    "    plt.plot(thresholds, f1_list, label = \"f1-score\")\n",
    "    plt.legend()\n",
    "    plt.xlabel('Treshold')\n",
    "    plt.ylabel('F1-score')\n",
    "    plt.title('F1-score Performance: '+ category)\n",
    "    plt.show()\n",
    "    return y_pred_max"
   ]
  },
  {
   "cell_type": "code",
   "execution_count": 17,
   "metadata": {},
   "outputs": [],
   "source": [
    "# Oversamples the minority class using the RandomOverSampler class\n",
    "# https://imbalanced-learn.org/stable/references/generated/imblearn.over_sampling.RandomOverSampler.html\n",
    "def oversample_data(x, y):    \n",
    "#     oversample = RandomOverSampler(sampling_strategy='minority', random_state = 42)\n",
    "    oversample = RandomOverSampler(random_state = 42)\n",
    "    x_over, y_over = oversample.fit_resample(x, y)\n",
    "    return x_over, y_over"
   ]
  },
  {
   "cell_type": "code",
   "execution_count": 18,
   "metadata": {},
   "outputs": [],
   "source": [
    "def print_important_features(vectorizer, lr):\n",
    "    print(\"Most important features:\")\n",
    "    words = vectorizer.get_feature_names_out()\n",
    "    for label, coefs, intercept in zip(lr.classes_, lr.coef_, lr.intercept_):\n",
    "        print(label)\n",
    "        sort_zipped_list = sorted(zip(words, coefs), key = lambda x: x[1], reverse = True) \n",
    "        for t, c in list(sort_zipped_list)[:10]:\n",
    "            print(t, c)\n",
    "        print(\"...\")\n",
    "        print(\"INTERCEPT:\" +str(intercept))\n",
    "        print(\"...\")\n",
    "        for t, c in list(sort_zipped_list)[-10:]:\n",
    "            print(t, c)\n",
    "        print()"
   ]
  },
  {
   "cell_type": "markdown",
   "metadata": {},
   "source": [
    "Using optimized parameters"
   ]
  },
  {
   "cell_type": "code",
   "execution_count": 19,
   "metadata": {},
   "outputs": [],
   "source": [
    "ngrams = [(1,2), (1,2), (1,3), (1,2), (1,1)]\n",
    "max_iter = 200\n",
    "C = 0.1\n",
    "max_features_r = [5000, 5000, 5000, 5000, 2000]\n",
    "preprocessing_r = [False, True, True, True, True]"
   ]
  },
  {
   "cell_type": "code",
   "execution_count": 20,
   "metadata": {
    "scrolled": false
   },
   "outputs": [
    {
     "name": "stdout",
     "output_type": "stream",
     "text": [
      "DPO\n",
      "Most important features:\n",
      "0\n",
      "domain 5.369939434117046\n",
      "contact 3.982949564552181\n",
      "please 3.6975035200579995\n",
      "at 3.350827938132549\n",
      "ico 3.086463944940196\n",
      "officer 2.949216955218701\n",
      "telephone 2.8901499954015173\n",
      "us at 2.830115634684919\n",
      "data controller 2.803806747011564\n",
      "data protection 2.6869806511873255\n",
      "...\n",
      "INTERCEPT:-2.3175102354556487\n",
      "...\n",
      "it -0.8511888680238887\n",
      "we may -0.8672315096156576\n",
      "other -0.9722385496360257\n",
      "services -0.9803828354602597\n",
      "that -1.0839272739916515\n",
      "cookies -1.1196887763995635\n",
      "not -1.1572629980651572\n",
      "will -1.2100011309997392\n",
      "we -1.5261093865330764\n",
      "and -2.1714565667858934\n",
      "\n",
      "              precision    recall  f1-score   support\n",
      "\n",
      "           0       1.00      0.97      0.98      3597\n",
      "           1       0.39      0.96      0.56        83\n",
      "\n",
      "    accuracy                           0.97      3680\n",
      "   macro avg       0.69      0.96      0.77      3680\n",
      "weighted avg       0.99      0.97      0.97      3680\n",
      "\n",
      "ROC AUC: 0.9645521200732874\n",
      "Confusion matrix DPO:\n",
      "[[3472  125]\n",
      " [   3   80]]\n",
      "Confusion matrix after thresholding DPO:\n",
      "Max F1-score: 0.6255924170616113\n"
     ]
    },
    {
     "data": {
      "image/png": "[encoded data removed]",
      "text/plain": [
       "<Figure size 432x288 with 1 Axes>"
      ]
     },
     "metadata": {
      "needs_background": "light"
     },
     "output_type": "display_data"
    },
    {
     "name": "stdout",
     "output_type": "stream",
     "text": [
      "[[3535   62]\n",
      " [  17   66]]\n",
      "--- --- --- --- --- --- \n",
      "--- --- --- --- --- --- \n",
      "\n",
      "Purpose\n",
      "Most important features:\n",
      "0\n",
      "use 3.5245444910662225\n",
      "purpos 3.444640077661025\n",
      "to 3.3589014297338733\n",
      "use your 3.0008184964467293\n",
      "and 2.4572771227149532\n",
      "for 2.36035964405033\n",
      "you 2.215695800910636\n",
      "servic 2.1884075525883904\n",
      "administ 2.170219674289761\n",
      "our 2.0188872324121285\n",
      "...\n",
      "INTERCEPT:-2.0096003499885198\n",
      "...\n",
      "if -0.9948762930572872\n",
      "transfer -1.0016258387179302\n",
      "pleas -1.0746261917040365\n",
      "access -1.1365532039406552\n",
      "to the -1.170726707869147\n",
      "right to -1.17809188178301\n",
      "how -1.2162365006504559\n",
      "privaci -1.3374242912720942\n",
      "right -1.44500199824423\n",
      "cooki -2.1797556536705236\n",
      "\n",
      "              precision    recall  f1-score   support\n",
      "\n",
      "           0       0.99      0.90      0.94      3484\n",
      "           1       0.31      0.80      0.44       196\n",
      "\n",
      "    accuracy                           0.89      3680\n",
      "   macro avg       0.65      0.85      0.69      3680\n",
      "weighted avg       0.95      0.89      0.91      3680\n",
      "\n",
      "ROC AUC: 0.8477295625483259\n",
      "Confusion matrix Purpose:\n",
      "[[3134  350]\n",
      " [  40  156]]\n",
      "Confusion matrix after thresholding Purpose:\n",
      "Max F1-score: 0.5586034912718204\n"
     ]
    },
    {
     "data": {
      "image/png": "[encoded data removed]",
      "text/plain": [
       "<Figure size 432x288 with 1 Axes>"
      ]
     },
     "metadata": {
      "needs_background": "light"
     },
     "output_type": "display_data"
    },
    {
     "name": "stdout",
     "output_type": "stream",
     "text": [
      "[[3391   93]\n",
      " [  84  112]]\n",
      "--- --- --- --- --- --- \n",
      "--- --- --- --- --- --- \n",
      "\n",
      "Acquired data\n",
      "Most important features:\n",
      "0\n",
      "collect 4.311927152506639\n",
      "name 4.191462588921572\n",
      "address 3.553154018993477\n",
      "record 3.179207715512663\n",
      "detail 3.1217012033190943\n",
      "health 2.682993134291297\n",
      "includ 2.6462855481906855\n",
      "photograph 2.525772945613433\n",
      "ident 2.350790692022595\n",
      "person 2.3427267265492264\n",
      "...\n",
      "INTERCEPT:-1.9549112097946155\n",
      "...\n",
      "to -0.9370096187432714\n",
      "secur -1.0084994266051917\n",
      "share -1.0353475761780089\n",
      "privaci -1.0944124623485942\n",
      "cooki -1.1487606663925312\n",
      "your person inform -1.1883578419035006\n",
      "it -1.1921517935124073\n",
      "right -1.313357685233753\n",
      "your person -1.3185116631046057\n",
      "how -1.3369896667129053\n",
      "\n",
      "              precision    recall  f1-score   support\n",
      "\n",
      "           0       0.99      0.95      0.97      3567\n",
      "           1       0.33      0.76      0.46       113\n",
      "\n",
      "    accuracy                           0.94      3680\n",
      "   macro avg       0.66      0.86      0.71      3680\n",
      "weighted avg       0.97      0.94      0.96      3680\n",
      "\n",
      "ROC AUC: 0.8558603819178258\n",
      "Confusion matrix Acquired data:\n",
      "[[3391  176]\n",
      " [  27   86]]\n",
      "Confusion matrix after thresholding Acquired data:\n",
      "Max F1-score: 0.5945945945945946\n"
     ]
    },
    {
     "data": {
      "image/png": "[encoded data removed]",
      "text/plain": [
       "<Figure size 432x288 with 1 Axes>"
      ]
     },
     "metadata": {
      "needs_background": "light"
     },
     "output_type": "display_data"
    },
    {
     "name": "stdout",
     "output_type": "stream",
     "text": [
      "[[3524   43]\n",
      " [  47   66]]\n",
      "--- --- --- --- --- --- \n",
      "--- --- --- --- --- --- \n",
      "\n",
      "Data sharing\n",
      "Most important features:\n",
      "0\n",
      "share 6.010586075574314\n",
      "disclos 4.660573728426451\n",
      "parti 3.7208630381373076\n",
      "third parti 3.3630788410888943\n",
      "third 3.350040588385946\n",
      "transfer 3.2611185710854715\n",
      "share your 3.2582780913326936\n",
      "inform with 3.053283636191983\n",
      "with 2.8365468710490145\n",
      "pass 2.480571172464701\n",
      "...\n",
      "INTERCEPT:-2.5844143608752894\n",
      "...\n",
      "site -0.8859703623905149\n",
      "account -0.9025640592053933\n",
      "use your -0.9345559180383483\n",
      "collect -0.9778931874716233\n",
      "right -0.9797221148099938\n",
      "from -1.0111502208128924\n",
      "websit -1.266327896427972\n",
      "cooki -1.325231260848767\n",
      "use -1.8343947497658\n",
      "you -2.04761109864752\n",
      "\n",
      "              precision    recall  f1-score   support\n",
      "\n",
      "           0       0.99      0.95      0.97      3514\n",
      "           1       0.46      0.89      0.61       166\n",
      "\n",
      "    accuracy                           0.95      3680\n",
      "   macro avg       0.73      0.92      0.79      3680\n",
      "weighted avg       0.97      0.95      0.96      3680\n",
      "\n",
      "ROC AUC: 0.920882734123746\n",
      "Confusion matrix Data sharing:\n",
      "[[3339  175]\n",
      " [  18  148]]\n",
      "Confusion matrix after thresholding Data sharing:\n",
      "Max F1-score: 0.6938775510204082\n"
     ]
    },
    {
     "data": {
      "image/png": "[encoded data removed]",
      "text/plain": [
       "<Figure size 432x288 with 1 Axes>"
      ]
     },
     "metadata": {
      "needs_background": "light"
     },
     "output_type": "display_data"
    },
    {
     "name": "stdout",
     "output_type": "stream",
     "text": [
      "[[3456   58]\n",
      " [  47  119]]\n",
      "--- --- --- --- --- --- \n",
      "--- --- --- --- --- --- \n",
      "\n",
      "Rights\n",
      "Most important features:\n",
      "0\n",
      "delet 6.1958172600790435\n",
      "correct 5.75577036548901\n",
      "remov 4.990188969203597\n",
      "erasur 4.93547376248821\n",
      "right 4.463459645728434\n",
      "eras 4.431787364536628\n",
      "rectif 3.710602186800128\n",
      "request 3.6466320017678404\n",
      "forgotten 3.438451496617487\n",
      "rectifi 3.246393127938354\n",
      "...\n",
      "INTERCEPT:-3.3549459555326737\n",
      "...\n",
      "third -0.8730666151850905\n",
      "parti -0.9177284200006315\n",
      "polici -0.9928610727534555\n",
      "cooki -1.0832673026169315\n",
      "use -1.105388615894681\n",
      "collect -1.1142382998900562\n",
      "privaci -1.1367732178590757\n",
      "websit -1.2185942596543173\n",
      "servic -1.3305235362750008\n",
      "are -1.3510470822033933\n",
      "\n",
      "              precision    recall  f1-score   support\n",
      "\n",
      "           0       1.00      0.98      0.99      3630\n",
      "           1       0.38      0.92      0.54        50\n",
      "\n",
      "    accuracy                           0.98      3680\n",
      "   macro avg       0.69      0.95      0.76      3680\n",
      "weighted avg       0.99      0.98      0.98      3680\n",
      "\n",
      "ROC AUC: 0.9496694214876032\n",
      "Confusion matrix Rights:\n",
      "[[3555   75]\n",
      " [   4   46]]\n",
      "Confusion matrix after thresholding Rights:\n",
      "Max F1-score: 0.7628865979381443\n"
     ]
    },
    {
     "data": {
      "image/png": "[encoded data removed]",
      "text/plain": [
       "<Figure size 432x288 with 1 Axes>"
      ]
     },
     "metadata": {
      "needs_background": "light"
     },
     "output_type": "display_data"
    },
    {
     "name": "stdout",
     "output_type": "stream",
     "text": [
      "[[3620   10]\n",
      " [  13   37]]\n",
      "--- --- --- --- --- --- \n",
      "--- --- --- --- --- --- \n",
      "\n"
     ]
    }
   ],
   "source": [
    "for i, category in enumerate(categories):\n",
    "    print(category)\n",
    "    train, test = train_test_split(dataset, stratify=dataset[category], random_state=42, test_size = 0.2)\n",
    "    x_train, x_test = train.Text, test.Text\n",
    "    y_train, y_test = train[category], test[category]\n",
    "    \n",
    "    vectorizer = TfidfVectorizer(\n",
    "        ngram_range = ngrams[i],\n",
    "        max_features = max_features_r[i])\n",
    "    \n",
    "    if preprocessing_r[i]:\n",
    "        x_train = preprocessing(x_train)\n",
    "        x_test = preprocessing(x_test)\n",
    "\n",
    "    x_train = vectorizer.fit_transform(x_train)\n",
    "    x_test = vectorizer.transform(x_test)\n",
    "\n",
    "    x_train, y_train = oversample_data(x_train, y_train)\n",
    "    \n",
    "    lr = LogisticRegression(max_iter = max_iter, C = C)\n",
    "    lr.fit(x_train, y_train)\n",
    "    \n",
    "    print_important_features(vectorizer, lr)\n",
    "    \n",
    "    y_pred = lr.predict(x_test)\n",
    "    y_prob = lr.predict_proba(x_test)[:,1]\n",
    "    \n",
    "    print(classification_report(y_test, y_pred))\n",
    "    print(\"ROC AUC: \" + str(roc_auc_score(y_test, y_pred)))\n",
    "    \n",
    "    print(\"Confusion matrix \" + category + \":\")\n",
    "    print(confusion_matrix(y_test, y_pred))\n",
    "\n",
    "    \n",
    "    print(\"Confusion matrix after thresholding \" + category + \":\")\n",
    "    y_cutoff = plot_f1_threshold(y_test, y_prob)\n",
    "    print(confusion_matrix(y_test, y_cutoff))\n",
    "    print(\"--- --- --- --- --- --- \")\n",
    "    print(\"--- --- --- --- --- --- \")\n",
    "    print()"
   ]
  },
  {
   "cell_type": "markdown",
   "metadata": {},
   "source": [
    "---"
   ]
  },
  {
   "cell_type": "markdown",
   "metadata": {},
   "source": [
    "# Retrain on whole data set"
   ]
  },
  {
   "cell_type": "code",
   "execution_count": 21,
   "metadata": {},
   "outputs": [],
   "source": [
    "ngrams = [(1,2), (1,2), (1,3), (1,2), (1,1)]\n",
    "max_iter = 200\n",
    "C = 0.1\n",
    "max_features_r = [5000, 5000, 5000, 5000, 2000]\n",
    "preprocessing_r = [False, True, True, True, True]"
   ]
  },
  {
   "cell_type": "code",
   "execution_count": 22,
   "metadata": {},
   "outputs": [],
   "source": [
    "for i, category in enumerate(categories):\n",
    "    X, y = dataset.Text, dataset[category]\n",
    "    \n",
    "    vectorizer = TfidfVectorizer(\n",
    "        ngram_range = ngrams[i],\n",
    "        max_features = max_features_r[i])\n",
    "    \n",
    "    if preprocessing_r[i]: X = preprocessing(X);\n",
    "\n",
    "    X = vectorizer.fit_transform(X)\n",
    "\n",
    "    X, y = oversample_data(X, y)\n",
    "    \n",
    "    lr = LogisticRegression(max_iter = max_iter, C = C)\n",
    "    lr.fit(X, y)\n",
    "    \n",
    "    # Save to file in the current working directory\n",
    "    lr_file = \"linreg-oversampling-\" + category + \".pkl\"\n",
    "    with open(lr_file, 'wb') as file:\n",
    "        pickle.dump((vectorizer, lr), file)"
   ]
  },
  {
   "cell_type": "markdown",
   "metadata": {},
   "source": [
    "---"
   ]
  },
  {
   "cell_type": "markdown",
   "metadata": {},
   "source": [
    "# Increase Certainty of Predictions\n",
    "The classification results lead to the following question: __When does a privacy policy as a whole meet the GDPR privacy policy core requirement at issue?__ Is the mere presence of one positively classified sentence enough to consider the whole privacy policy compliant with the GDPR class in question? In this research, we decided to raise the certainty of our predictions by addressing the following question: __What number of positive sentences are needed to classify, with a desired level of confidence, a new privacy policy as compliant with the requirement at issue?__ To address this question, we exert the inverse cumulative distribution function of the binomial distribution to set a threshold of the minimum positive sentences required to meet a given confidence level. This step is necessary since our classification models work at the sentence-level rather than at the document-level due to the data set used to train the models. This data set consists of labeled sentences extracted from privacy policies without insight into the structure of the original documents (i.e., privacy policies)."
   ]
  },
  {
   "cell_type": "markdown",
   "metadata": {},
   "source": [
    "Given a contingency table consisting of true positive (TP), false positive (FP), true negative (TN), and false negative (FN) values, based on a data set comprising, in total, E = TP + FP + TN + FN elements—$\\hat{P}$ describes the elements predicted as positive, i.e., $\\hat{P}$ = TP + FP. The probability that a positively predicted element is a true positive can then be described as $P(y=1|\\hat{y}=1) = \\frac{TP}{\\hat{P}}$. Using a binomial distribution, the probability that exactly $k$ elements from $\\hat{P}$ are true positives can be calculated as follows:\n",
    "\n",
    "\\begin{equation}\n",
    "      P(|TP| = k) = \\binom{\\hat{P}}{k} P(y=1|\\hat{y}=1)^k (1 - P(y=1|\\hat{y}=1))^{\\hat{P}-k} \n",
    "      = \\binom{\\hat{P}}{k} P_{TP}^k P_{FP}^{\\hat{P}-k}\n",
    "\\end{equation}\n",
    "\n",
    "It follows that the cumulative distribution function is equal to:\n",
    "\n",
    "\\begin{equation}\n",
    "      P(|TP| \\leq k) = \\sum_{i=0}^k \\binom{\\hat{P}}{i} P_{TP}^k P_{FP}^{\\hat{P}-i}\n",
    "\\end{equation}\n",
    "\n",
    "We focus on the probability that the number of TP exceeds a given value, therefore we consider the inverse cumulative distribution:\n",
    "\n",
    "\\begin{equation}\n",
    "      P(|TP| > k) = 1 - P(|TP| \\leq k) = 1 - \\sum_{i=0}^k \\binom{\\hat{P}}{i} P_{TP}^k P_{FP}^{\\hat{P}-i}\n",
    "\\end{equation}\n",
    "\n",
    "We now find the highest value of $k$ (i.e., $k'$) that keeps the inverse cumulative distribution above a given desired probability $Z$:\n",
    "\n",
    "\\begin{equation}\n",
    "    k' = argmax_{k\\in[0,|TP|]} P(|TP| > k) \\geq Z\n",
    "\\end{equation} \n",
    "\n",
    "Given a new set of elements (e.g., sentences in a privacy policy) with $E_n$ elements of which $\\hat{P}_n$ are predicted as positive by the model. We consider the document to be positive if the threshold, ${Q}=\\frac{k'}{E}$ is met, i.e., $\\frac{\\hat{P}}{E_n} \\geq Q$.\n",
    "\n",
    "### Example: label = DPO\n",
    "\n",
    "|DPO (3548N, 132P)| Predicted N | Predicted P |\n",
    "|:---:|:---:|:---:|\n",
    "| Actual N | TN = 3535 | FP = 62 |\n",
    "| Actual P | FN = 17 | TP = 66 |\n",
    "\n",
    "* ${E}$ = TP + FP + TN + FN = 66 + 62 + 3535 + 17 = 3680 <br>\n",
    "* $\\hat{P}$ = TP + FP = 66 + 62 = 128 <br>\n",
    "* $P(y=1|\\hat{y}=1) = \\frac{TP}{\\hat{P}} = \\frac{66}{128}$."
   ]
  },
  {
   "cell_type": "markdown",
   "metadata": {},
   "source": [
    "#### Binomial Distribution\n",
    "Using a binomial distribution, the probability that exactly $k$ elements from $\\hat{P}$ are true positives can be calculated as follows:\n",
    "\n",
    "\\begin{equation}\n",
    "      P(|TP| = k) = \\binom{\\hat{P}}{k} P(y=1|\\hat{y}=1)^k (1 - P(y=1|\\hat{y}=1))^{\\hat{P}-k} \n",
    "      = \\binom{\\hat{P}}{k} P_{TP}^k P_{FP}^{\\hat{P}-k}\n",
    "\\end{equation}"
   ]
  },
  {
   "cell_type": "code",
   "execution_count": 23,
   "metadata": {},
   "outputs": [
    {
     "data": {
      "image/png": "[encoded data removed]",
      "text/plain": [
       "<Figure size 432x288 with 1 Axes>"
      ]
     },
     "metadata": {
      "needs_background": "light"
     },
     "output_type": "display_data"
    }
   ],
   "source": [
    "# setting the values of n and p\n",
    "n = 128\n",
    "k = 128\n",
    "p = (66/128)\n",
    "\n",
    "# defining list of r values\n",
    "r_values = list(range(k + 1))\n",
    "\n",
    "# list of pmf values\n",
    "dist = [binom.pmf(r, n, p) for r in r_values ]\n",
    "\n",
    "# plotting the graph \n",
    "plt.bar(r_values, dist)\n",
    "plt.show()"
   ]
  },
  {
   "cell_type": "markdown",
   "metadata": {},
   "source": [
    "#### Cumulative Binomial Distribution\n",
    "It follows that the cumulative distribution function is equal to:\n",
    "\n",
    "\\begin{equation}\n",
    "      P(|TP| \\leq k) = \\sum_{i=0}^k \\binom{\\hat{P}}{i} P_{TP}^k P_{FP}^{\\hat{P}-i}\n",
    "\\end{equation}"
   ]
  },
  {
   "cell_type": "code",
   "execution_count": 24,
   "metadata": {
    "scrolled": true
   },
   "outputs": [
    {
     "data": {
      "image/png": "[encoded data removed]",
      "text/plain": [
       "<Figure size 432x288 with 1 Axes>"
      ]
     },
     "metadata": {
      "needs_background": "light"
     },
     "output_type": "display_data"
    }
   ],
   "source": [
    "n = 128\n",
    "k = 128\n",
    "p = (66/128)\n",
    "\n",
    "# defining list of r values\n",
    "r_values = list(range(k + 1))\n",
    "\n",
    "# list of pmf values\n",
    "dist = [binom.cdf(r, n, p) for r in r_values ]\n",
    "\n",
    "# plotting the graph \n",
    "plt.bar(r_values, dist)\n",
    "plt.show()"
   ]
  },
  {
   "cell_type": "markdown",
   "metadata": {},
   "source": [
    "#### Cumulative Binomial Distribution: step 1\n",
    "\n",
    "We focus on the probability that the number of TP exceeds a given value, therefore we consider the inverse cumulative distribution:\n",
    "\n",
    "\\begin{equation}\n",
    "      P(|TP| > k) = 1 - P(|TP| \\leq k) = 1 - \\sum_{i=0}^k \\binom{\\hat{P}}{i} P_{TP}^k P_{FP}^{\\hat{P}-i}\n",
    "\\end{equation}"
   ]
  },
  {
   "cell_type": "code",
   "execution_count": 25,
   "metadata": {
    "scrolled": true
   },
   "outputs": [
    {
     "data": {
      "image/png": "[encoded data removed]",
      "text/plain": [
       "<Figure size 432x288 with 1 Axes>"
      ]
     },
     "metadata": {
      "needs_background": "light"
     },
     "output_type": "display_data"
    }
   ],
   "source": [
    "n = 128\n",
    "k = 128\n",
    "p = (66/128)\n",
    "\n",
    "# defining list of r values\n",
    "r_values = list(range(k + 1))\n",
    "\n",
    "# list of pmf values\n",
    "dist = [(1-binom.cdf(r, n, p)) for r in r_values]\n",
    "\n",
    "# plotting the graph \n",
    "plt.bar(r_values, dist)\n",
    "plt.show()"
   ]
  },
  {
   "cell_type": "markdown",
   "metadata": {},
   "source": [
    "#### Cumulative Binomial Distribution: step 2\n",
    "\n",
    "We now find the highest value of $k$ (i.e., $k'$) that keeps the inverse cumulative distribution above a given desired probability $Z$:\n",
    "\n",
    "\\begin{equation}\n",
    "    k' = argmax_{k\\in[0,|TP|]} P(|TP| > k) \\geq Z\n",
    "\\end{equation} \n",
    "\n",
    "Given a new set of elements (e.g., sentences in a privacy policy) with $E_n$ elements of which $\\hat{P}_n$ are predicted as positive by the model. We consider the document to be positive if the threshold, ${Q}=\\frac{k'}{E}$ is met, i.e., $\\frac{\\hat{P}}{E_n} \\geq Q$."
   ]
  },
  {
   "cell_type": "code",
   "execution_count": 26,
   "metadata": {},
   "outputs": [
    {
     "name": "stdout",
     "output_type": "stream",
     "text": [
      "{0: 1.0, 1: 1.0, 2: 1.0, 3: 1.0, 4: 1.0, 5: 1.0, 6: 1.0, 7: 1.0, 8: 1.0, 9: 1.0, 10: 1.0, 11: 1.0, 12: 1.0, 13: 1.0, 14: 1.0, 15: 1.0, 16: 1.0, 17: 1.0, 18: 1.0, 19: 1.0, 20: 1.0, 21: 0.9999999999999999, 22: 0.9999999999999992, 23: 0.9999999999999963, 24: 0.9999999999999827, 25: 0.9999999999999222, 26: 0.9999999999996669, 27: 0.9999999999986408, 28: 0.9999999999947005, 29: 0.9999999999802363, 30: 0.9999999999294251, 31: 0.9999999997584331, 32: 0.9999999992066738, 33: 0.9999999974979996, 34: 0.9999999924157478, 35: 0.99999997788566, 36: 0.9999999379279184, 37: 0.9999998321635738, 38: 0.9999995625452998, 39: 0.9999989002076043, 40: 0.9999973314287238, 41: 0.9999937470590393, 42: 0.9999858432761177, 43: 0.9999690158673169, 44: 0.9999344111153473, 45: 0.9998656481243368, 46: 0.9997335711030341, 47: 0.9994882722563317, 48: 0.9990476245296952, 49: 0.9982817851627956, 50: 0.9969936927566618, 51: 0.9948965707747591, 52: 0.9915908716705315, 53: 0.9865448014615219, 54: 0.9790842137869109, 55: 0.9683987269239197, 56: 0.9535707673312089, 57: 0.9336323225138456, 58: 0.9076502445343784}\n"
     ]
    },
    {
     "data": {
      "image/png": "[encoded data removed]",
      "text/plain": [
       "<Figure size 432x288 with 1 Axes>"
      ]
     },
     "metadata": {
      "needs_background": "light"
     },
     "output_type": "display_data"
    },
    {
     "name": "stdout",
     "output_type": "stream",
     "text": [
      "k': 58\n",
      "P(|TP| > 58): 0.9076502445343784\n",
      "Threshold value (k'/E): 0.01576086956521739\n"
     ]
    }
   ],
   "source": [
    "E_total_elements = 3680\n",
    "Z = 0.9\n",
    "n = 128\n",
    "k = 125\n",
    "p = (64/132)\n",
    "p = (66/128)\n",
    "\n",
    "# defining list of r values\n",
    "r_values = list(range(k + 1))\n",
    "\n",
    "# list of pmf values\n",
    "dist = [(1-binom.cdf(r, n, p)) for r in r_values]\n",
    "# k_list = [r for r in r_values if (dist[r] > t)]\n",
    "\n",
    "k_list = {r:dist[r] for r in r_values if (dist[r] > Z)}\n",
    "\n",
    "print(k_list)\n",
    "\n",
    "plt.bar(k_list.keys(), k_list.values())\n",
    "plt.show()\n",
    "\n",
    "k_max = max(k_list, key=int)\n",
    "print(\"k':\", k_max)\n",
    "print(\"P(|TP| > \" + str(k_max) + \"):\", k_list[k_max])\n",
    "print(\"Threshold value (k'/E):\", (k_max/E_total_elements))"
   ]
  },
  {
   "cell_type": "markdown",
   "metadata": {},
   "source": [
    "Result:\n",
    "* $k' = 58$\n",
    "* $P(|TP| > k') = P(|TP| > 58) = 0.90765 $\n",
    "\n",
    "$$ Q = \\frac{k'}{E} = \\frac{58}{3680} = 0.01576086956521739$$"
   ]
  },
  {
   "cell_type": "markdown",
   "metadata": {},
   "source": [
    "## Calibrate all thresholds"
   ]
  },
  {
   "cell_type": "code",
   "execution_count": 27,
   "metadata": {},
   "outputs": [],
   "source": [
    "def calculate_threshold (E_total_elements, Z, n, k, p):\n",
    "    # defining list of r values\n",
    "    r_values = list(range(k + 1))\n",
    "    # list of pmf values\n",
    "    dist = [(1-binom.cdf(r, n, p)) for r in r_values]\n",
    "\n",
    "    k_list = {r:dist[r] for r in r_values if (dist[r] > Z)}\n",
    "\n",
    "#     print(k_list)\n",
    "#     plt.bar(k_list.keys(), k_list.values())\n",
    "#     plt.show()\n",
    "\n",
    "    k_max = max(k_list, key=int)\n",
    "    print(\"k':\", k_max)\n",
    "    print(\"P(|TP| > \" + str(k_max) +\"):\", k_list[k_max])\n",
    "    print(\"Threshold value (k'/E):\", (k_max/E_total_elements))\n",
    "    print()\n",
    "    return (k_max/E_total_elements)"
   ]
  },
  {
   "cell_type": "code",
   "execution_count": 28,
   "metadata": {},
   "outputs": [
    {
     "name": "stdout",
     "output_type": "stream",
     "text": [
      "DPO\n",
      "k': 58\n",
      "P(|TP| > 58): 0.9076502445343784\n",
      "Threshold value (k'/E): 0.01576086956521739\n",
      "\n",
      "Purpose\n",
      "k': 102\n",
      "P(|TP| > 102): 0.9084884943242253\n",
      "Threshold value (k'/E): 0.027717391304347826\n",
      "\n",
      "Acquired Data\n",
      "k': 58\n",
      "P(|TP| > 58): 0.9283144519938604\n",
      "Threshold value (k'/E): 0.01576086956521739\n",
      "\n",
      "Data Sharing\n",
      "k': 110\n",
      "P(|TP| > 110): 0.9121717453954415\n",
      "Threshold value (k'/E): 0.029891304347826088\n",
      "\n",
      "Rights\n",
      "k': 32\n",
      "P(|TP| > 32): 0.940860360910706\n",
      "Threshold value (k'/E): 0.008695652173913044\n",
      "\n",
      "\n"
     ]
    }
   ],
   "source": [
    "print(\"DPO\")\n",
    "dpo_threshold = calculate_threshold (3680, 0.9, 128, 128, (66/128))\n",
    "\n",
    "print(\"Purpose\")\n",
    "purpose_threshold = calculate_threshold (3680, 0.9, 205, 205, (112/205))\n",
    "\n",
    "print(\"Acquired Data\")\n",
    "acquired_data_threshold = calculate_threshold (3680, 0.9, 109, 109, (66/109))\n",
    "\n",
    "print(\"Data Sharing\")\n",
    "data_sharing_threshold = calculate_threshold (3680, 0.9, 177, 177, (119/177))\n",
    "\n",
    "print(\"Rights\")\n",
    "rights_threshold = calculate_threshold (3680, 0.9, 47, 47, (37/47))\n",
    "print(\"\")"
   ]
  }
 ],
 "metadata": {
  "kernelspec": {
   "display_name": "Python 3",
   "language": "python",
   "name": "python3"
  },
  "language_info": {
   "codemirror_mode": {
    "name": "ipython",
    "version": 3
   },
   "file_extension": ".py",
   "mimetype": "text/x-python",
   "name": "python",
   "nbconvert_exporter": "python",
   "pygments_lexer": "ipython3",
   "version": "3.8.5"
  }
 },
 "nbformat": 4,
 "nbformat_minor": 4
}
